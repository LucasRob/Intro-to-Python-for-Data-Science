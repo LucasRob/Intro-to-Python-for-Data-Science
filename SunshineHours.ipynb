{
 "cells": [
  {
   "cell_type": "code",
   "execution_count": 2,
   "metadata": {},
   "outputs": [],
   "source": [
    "import pandas as pd\n",
    "import numpy as np\n",
    "from mpl_toolkits.basemap import Basemap\n",
    "import matplotlib.pyplot as plt\n",
    "\n",
    "#Create sunshine dataFrame and converting -9999.9 values into NaN\n",
    "sun = pd.read_csv('sunshine.csv', index_col=False, na_values = -9999.9)\n",
    "\n",
    "#We use only the WMO Station Number and the Annual mean column\n",
    "sun = sun.loc[:,['WMO Station Number','Annual NCDC Computed Value']]\n",
    "sun = sun.rename(columns={'WMO Station Number': 'WMO', 'Annual NCDC Computed Value': 'Annual Mean'})\n",
    "sun = sun.dropna(axis = 0)\n",
    "sun['WMO'] = sun['WMO'].apply(int)\n",
    "\n",
    "#We read from mlid the WMO stations and its coordinates for plotting\n",
    "mlid = pd.read_csv('mlid-20180925_public-2.csv', index_col=False, usecols=['wmo', 'lat_prp', 'lon_prp'])\n",
    "mlid = mlid.rename(columns={'wmo': 'WMO', 'lat_prp':'LAT', 'lon_prp': 'LON'})\n",
    "mlid = mlid.dropna(axis = 0)\n",
    "mlid['WMO'] = mlid['WMO'].apply(int)\n",
    "\n",
    "#We join the two Dataframes using the WMO column\n",
    "sun = sun.set_index('WMO').join(mlid.set_index('WMO'))\n",
    "\n",
    "sun['LAT'] = sun['LAT'].replace('', np.nan)\n",
    "sun['LON'] = sun['LON'].replace('', np.nan)\n",
    "sun = sun.dropna(axis = 0)\n",
    "\n",
    "lat = sun['LAT'].values\n",
    "lon = sun['LON'].values\n",
    "annualMean = sun['Annual Mean'].values\n",
    "\n",
    "#fig = plt.figure(figsize=(10, 10))\n",
    "#Create BaseMap with Miller Projection\n",
    "#map = Basemap(projection='mill', llcrnrlat=-90, urcrnrlat=90,llcrnrlon=-180, urcrnrlon=180)\n",
    "\n",
    "# Plot coastlines, draw label meridians and parallels.\n",
    "#map.drawcoastlines()\n",
    "#map.drawparallels(np.arange(-90,90,30),labels=[1,0,0,0])\n",
    "#map.drawmeridians(np.arange(map.lonmin,map.lonmax+30,60),labels=[0,0,0,1])\n",
    "# Fill continents with eggshell ffffd4 color \n",
    "#map.drawmapboundary(fill_color='#ffffd4')\n",
    "\n",
    "# Create the scatter plot using inferno colormap\n",
    "#map.scatter(lon, lat, latlon=True, c=annualMean, cmap='inferno', alpha=0.75)\n",
    "\n",
    "# Create colorbar and legend\n",
    "#plt.colorbar(label=r'${\\rm sunshine}$', fraction=0.033, pad=0.04)\n",
    "\n",
    "#plt.title('Hours of Sunshine in Weather Stations of WMO')\n",
    "\n",
    "#plt.show()"
   ]
  },
  {
   "cell_type": "code",
   "execution_count": null,
   "metadata": {},
   "outputs": [],
   "source": []
  }
 ],
 "metadata": {
  "kernelspec": {
   "display_name": "Python 3",
   "language": "python",
   "name": "python3"
  },
  "language_info": {
   "codemirror_mode": {
    "name": "ipython",
    "version": 3
   },
   "file_extension": ".py",
   "mimetype": "text/x-python",
   "name": "python",
   "nbconvert_exporter": "python",
   "pygments_lexer": "ipython3",
   "version": "3.7.0"
  }
 },
 "nbformat": 4,
 "nbformat_minor": 2
}
